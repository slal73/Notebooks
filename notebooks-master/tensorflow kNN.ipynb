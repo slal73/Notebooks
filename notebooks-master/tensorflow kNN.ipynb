{
 "cells": [
  {
   "cell_type": "code",
   "execution_count": 7,
   "metadata": {
    "collapsed": false
   },
   "outputs": [
    {
     "name": "stdout",
     "output_type": "stream",
     "text": [
      "Extracting /tmp/data/train-images-idx3-ubyte.gz\n",
      "Extracting /tmp/data/train-labels-idx1-ubyte.gz\n",
      "Extracting /tmp/data/t10k-images-idx3-ubyte.gz\n",
      "Extracting /tmp/data/t10k-labels-idx1-ubyte.gz\n",
      "WARNING:tensorflow:From <ipython-input-7-671ab3547ed5>:37 in <module>.: initialize_all_variables (from tensorflow.python.ops.variables) is deprecated and will be removed after 2017-03-02.\n",
      "Instructions for updating:\n",
      "Use `tf.global_variables_initializer` instead.\n",
      "Done!\n",
      "Accuracy: 0.9491999999999281\n"
     ]
    }
   ],
   "source": [
    "from __future__ import print_function\n",
    "\n",
    "import numpy as np\n",
    "import tensorflow as tf\n",
    "\n",
    "# Import MNIST data\n",
    "from tensorflow.examples.tutorials.mnist import input_data\n",
    "\n",
    "K = 4\n",
    "mnist = input_data.read_data_sets(\"/tmp/data/\", one_hot=True)\n",
    "\n",
    "# In this example, we limit mnist data\n",
    "Xtr, Ytr = mnist.train.next_batch(50000)  # whole training set\n",
    "Xte, Yte = mnist.test.next_batch(10000)  # whole test set\n",
    "\n",
    "# tf Graph Input\n",
    "xtr = tf.placeholder(\"float\", [None, 784])\n",
    "ytr = tf.placeholder(\"float\", [None, 10])\n",
    "xte = tf.placeholder(\"float\", [784])\n",
    "\n",
    "# Euclidean Distance\n",
    "distance = tf.neg(tf.sqrt(tf.reduce_sum(tf.square(tf.sub(xtr, xte)), reduction_indices=1)))\n",
    "# Prediction: Get min distance neighbors\n",
    "values, indices = tf.nn.top_k(distance, k=K, sorted=False)\n",
    "\n",
    "nearest_neighbors = []\n",
    "for i in range(K):\n",
    "    nearest_neighbors.append(tf.argmax(ytr[indices[i]], 0))\n",
    "\n",
    "neighbors_tensor = tf.pack(nearest_neighbors)\n",
    "y, idx, count = tf.unique_with_counts(neighbors_tensor)\n",
    "pred = tf.slice(y, begin=[tf.argmax(count, 0)], size=tf.constant([1], dtype=tf.int64))[0]\n",
    "\n",
    "accuracy = 0.\n",
    "\n",
    "# Initializing the variables\n",
    "init = tf.initialize_all_variables()\n",
    "\n",
    "# Launch the graph\n",
    "with tf.Session() as sess:\n",
    "    sess.run(init)\n",
    "\n",
    "    # loop over test data\n",
    "    test_range = 5000\n",
    "    for i in range(test_range):\n",
    "        # Get nearest neighbor\n",
    "        nn_index = sess.run(pred, feed_dict={xtr: Xtr, ytr: Ytr, xte: Xte[i, :]})\n",
    "        # Get nearest neighbor class label and compare it to its true label\n",
    "        #print(\"Test\", i, \"Prediction:\", nn_index, \"True Class:\", np.argmax(Yte[i]))\n",
    "        #Calculate accuracy\n",
    "        if nn_index == np.argmax(Yte[i]):\n",
    "            accuracy += 1. / test_range\n",
    "        else:\n",
    "            pass\n",
    "            #print(\"False prediction:\", np.argmax(Yte[i]))\n",
    "\n",
    "    print(\"Done!\")\n",
    "    print(\"Accuracy:\", accuracy)"
   ]
  }
 ],
 "metadata": {
  "kernelspec": {
   "display_name": "Python 3",
   "language": "python",
   "name": "python3"
  },
  "language_info": {
   "codemirror_mode": {
    "name": "ipython",
    "version": 3
   },
   "file_extension": ".py",
   "mimetype": "text/x-python",
   "name": "python",
   "nbconvert_exporter": "python",
   "pygments_lexer": "ipython3",
   "version": "3.5.2"
  }
 },
 "nbformat": 4,
 "nbformat_minor": 1
}
