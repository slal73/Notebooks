{
 "cells": [
  {
   "cell_type": "code",
   "execution_count": 6,
   "metadata": {
    "collapsed": false
   },
   "outputs": [],
   "source": [
    "import numpy as np\n",
    "import tflearn\n",
    "import random\n",
    "\n",
    "def create_feature_sets_and_labels():\n",
    "\n",
    "    # known patterns (5 features) output of [1] of positions [0,4]==1\n",
    "    features = []\n",
    "    features.append([[0, 1, 9, 3, 6], [0,1]])\n",
    "    features.append([[0, 1, 7, 4, 2], [0,1]])\n",
    "    features.append([[0, 1, 5, 0, 9], [0,1]])\n",
    "    features.append([[1, 0, 4, 6, 7], [1,0]])\n",
    "    features.append([[1, 0, 3, 7, 8], [1,0]])\n",
    "    \n",
    "    # shuffle our features and turn into np.array\n",
    "    random.shuffle(features)\n",
    "    features = np.array(features)\n",
    "\n",
    "    # create train and test lists\n",
    "    train_x = list(features[:,0])\n",
    "    train_y = list(features[:,1])\n",
    "\n",
    "    return train_x, train_y"
   ]
  },
  {
   "cell_type": "code",
   "execution_count": 7,
   "metadata": {
    "collapsed": false
   },
   "outputs": [],
   "source": [
    "train_x, train_y = create_feature_sets_and_labels()"
   ]
  },
  {
   "cell_type": "code",
   "execution_count": 8,
   "metadata": {
    "collapsed": false,
    "scrolled": true
   },
   "outputs": [
    {
     "name": "stdout",
     "output_type": "stream",
     "text": [
      "Training Step: 199  | total loss: \u001b[1m\u001b[32m0.00575\u001b[0m\u001b[0m | time: 0.002s\n",
      "| Adam | epoch: 100 | loss: 0.00575 - acc: 1.0000 -- iter: 4/5\n",
      "Training Step: 200  | total loss: \u001b[1m\u001b[32m0.00562\u001b[0m\u001b[0m | time: 0.005s\n",
      "| Adam | epoch: 100 | loss: 0.00562 - acc: 1.0000 -- iter: 5/5\n",
      "--\n"
     ]
    }
   ],
   "source": [
    "# reset underlying graph data\n",
    "import tensorflow as tf\n",
    "tf.reset_default_graph()\n",
    "# Build neural network\n",
    "net = tflearn.input_data(shape=[None, 5])\n",
    "net = tflearn.fully_connected(net, 32)\n",
    "net = tflearn.fully_connected(net, 32)\n",
    "net = tflearn.fully_connected(net, 2, activation='softmax')\n",
    "net = tflearn.regression(net)\n",
    "\n",
    "# Define model and setup tensorboard\n",
    "model = tflearn.DNN(net, tensorboard_dir='tflearn_logs')\n",
    "# Start training (apply gradient descent algorithm)\n",
    "model.fit(train_x, train_y, n_epoch=100, batch_size=4, show_metric=True)"
   ]
  },
  {
   "cell_type": "code",
   "execution_count": 9,
   "metadata": {
    "collapsed": false
   },
   "outputs": [
    {
     "name": "stdout",
     "output_type": "stream",
     "text": [
      "[[0.967603862285614, 0.0323960967361927]]\n",
      "[[0.6647899746894836, 0.33520999550819397]]\n",
      "[[0.12406770884990692, 0.8759322762489319]]\n",
      "[[0.9999886751174927, 1.133059231506195e-05]]\n",
      "[[0.9999721050262451, 2.794429565255996e-05]]\n",
      "[[0.9997043013572693, 0.00029572920175269246]]\n"
     ]
    }
   ],
   "source": [
    "print(model.predict([[0, 1, 0, 6, 2]])) # wrong\n",
    "print(model.predict([[1, 0, 8, 7, 4]]))\n",
    "print(model.predict([[0, 1, 0, 0, 2]]))\n",
    "\n",
    "print(model.predict([[8, 2, 0, 3, 5]]))\n",
    "print(model.predict([[9, 4, 1, 7, 2]]))\n",
    "print(model.predict([[1, 1, 0, 8, 9]]))"
   ]
  },
  {
   "cell_type": "code",
   "execution_count": null,
   "metadata": {
    "collapsed": false
   },
   "outputs": [],
   "source": []
  }
 ],
 "metadata": {
  "kernelspec": {
   "display_name": "Python 3",
   "language": "python",
   "name": "python3"
  },
  "language_info": {
   "codemirror_mode": {
    "name": "ipython",
    "version": 3
   },
   "file_extension": ".py",
   "mimetype": "text/x-python",
   "name": "python",
   "nbconvert_exporter": "python",
   "pygments_lexer": "ipython3",
   "version": "3.5.2"
  }
 },
 "nbformat": 4,
 "nbformat_minor": 1
}
