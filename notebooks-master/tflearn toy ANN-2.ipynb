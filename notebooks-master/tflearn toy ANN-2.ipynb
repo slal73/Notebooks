{
 "cells": [
  {
   "cell_type": "code",
   "execution_count": 34,
   "metadata": {
    "collapsed": false
   },
   "outputs": [],
   "source": [
    "import numpy as np\n",
    "import tflearn\n",
    "import random\n",
    "\n",
    "def create_feature_sets_and_labels():\n",
    "\n",
    "    # known patterns (5 features) output of [1] of positions [0,4]==1\n",
    "    features = []\n",
    "    features.append([[0, 1, 9, 3, 6], [0,1]])\n",
    "    features.append([[0, 1, 7, 4, 2], [0,1]])\n",
    "    features.append([[0, 1, 5, 0, 9], [0,1]])\n",
    "    features.append([[1, 0, 4, 6, 7], [0,1]])\n",
    "    features.append([[1, 0, 3, 7, 8], [0,1]])\n",
    "    features.append([[8, 9, 5, 2, 5], [1,0]])\n",
    "    features.append([[3, 0, 3, 4, 6], [1,0]])\n",
    "    features.append([[5, 2, 1, 4, 4], [1,0]])\n",
    "    features.append([[7, 3, 3, 2, 0], [1,0]])\n",
    "    \n",
    "    # shuffle our features and turn into np.array\n",
    "    random.shuffle(features)\n",
    "    features = np.array(features)\n",
    "\n",
    "    # create train and test lists\n",
    "    train_x = list(features[:,0])\n",
    "    train_y = list(features[:,1])\n",
    "\n",
    "    return train_x, train_y"
   ]
  },
  {
   "cell_type": "code",
   "execution_count": 35,
   "metadata": {
    "collapsed": false
   },
   "outputs": [],
   "source": [
    "train_x, train_y = create_feature_sets_and_labels()"
   ]
  },
  {
   "cell_type": "code",
   "execution_count": 36,
   "metadata": {
    "collapsed": false,
    "scrolled": true
   },
   "outputs": [
    {
     "name": "stdout",
     "output_type": "stream",
     "text": [
      "Training Step: 299  | total loss: \u001b[1m\u001b[32m0.00507\u001b[0m\u001b[0m | time: 0.006s\n",
      "| Adam | epoch: 100 | loss: 0.00507 - acc: 1.0000 -- iter: 8/9\n",
      "Training Step: 300  | total loss: \u001b[1m\u001b[32m0.00527\u001b[0m\u001b[0m | time: 0.009s\n",
      "| Adam | epoch: 100 | loss: 0.00527 - acc: 1.0000 -- iter: 9/9\n",
      "--\n"
     ]
    }
   ],
   "source": [
    "# reset underlying graph data\n",
    "import tensorflow as tf\n",
    "tf.reset_default_graph()\n",
    "# Build neural network\n",
    "net = tflearn.input_data(shape=[None, 5])\n",
    "net = tflearn.fully_connected(net, 32)\n",
    "net = tflearn.fully_connected(net, 32)\n",
    "net = tflearn.fully_connected(net, 2, activation='softmax')\n",
    "net = tflearn.regression(net)\n",
    "\n",
    "# Define model and setup tensorboard\n",
    "model = tflearn.DNN(net, tensorboard_dir='tflearn_logs')\n",
    "# Start training (apply gradient descent algorithm)\n",
    "model.fit(train_x, train_y, n_epoch=100, batch_size=4, show_metric=True)"
   ]
  },
  {
   "cell_type": "code",
   "execution_count": 37,
   "metadata": {
    "collapsed": false
   },
   "outputs": [
    {
     "name": "stdout",
     "output_type": "stream",
     "text": [
      "[[0.14985743165016174, 0.8501425385475159]]\n",
      "[[0.0002913394710049033, 0.9997085928916931]]\n",
      "[[0.6994397640228271, 0.30056023597717285]]\n",
      "[[1.0, 1.7667502999322605e-14]]\n",
      "[[0.15181590616703033, 0.8481840491294861]]\n",
      "[[0.019126782193779945, 0.980873167514801]]\n"
     ]
    }
   ],
   "source": [
    "print(model.predict([[0, 1, 0, 6, 2]]))\n",
    "print(model.predict([[1, 0, 8, 7, 4]]))\n",
    "print(model.predict([[0, 1, 0, 0, 2]])) \n",
    "\n",
    "print(model.predict([[9, 4, 1, 7, 2]]))\n",
    "print(model.predict([[1, 1, 0, 8, 9]])) \n",
    "print(model.predict([[0, 0, 2, 5, 1]]))"
   ]
  },
  {
   "cell_type": "code",
   "execution_count": null,
   "metadata": {
    "collapsed": false
   },
   "outputs": [],
   "source": []
  }
 ],
 "metadata": {
  "kernelspec": {
   "display_name": "Python 3",
   "language": "python",
   "name": "python3"
  },
  "language_info": {
   "codemirror_mode": {
    "name": "ipython",
    "version": 3
   },
   "file_extension": ".py",
   "mimetype": "text/x-python",
   "name": "python",
   "nbconvert_exporter": "python",
   "pygments_lexer": "ipython3",
   "version": "3.5.2"
  }
 },
 "nbformat": 4,
 "nbformat_minor": 1
}
